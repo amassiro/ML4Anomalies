{
 "cells": [
  {
   "cell_type": "code",
   "execution_count": 2,
   "metadata": {},
   "outputs": [],
   "source": [
    "import ROOT as root\n",
    "import numpy as np\n",
    "\n",
    "np.random.seed(1234)\n",
    "\n"
   ]
  },
  {
   "cell_type": "code",
   "execution_count": 3,
   "metadata": {},
   "outputs": [],
   "source": [
    "\n",
    "def getDataFromFile(fileinfo, branchlist) :\n",
    "\n",
    "  tfil = root.TFile(fileinfo)\n",
    "  tree = tfil.Get('flatTree')\n",
    "  datasize = tree.GetEntriesFast()\n",
    "  \n",
    "  print \"Reading NN inputs from \" + fileinfo\n",
    "  data = np.empty([datasize, len(branchlist)])\n",
    "  counter = 0\n",
    "  for entry in tree :\n",
    "    bridx = 0\n",
    "    for branch in branchlist :\n",
    "      data[counter][bridx] = getattr(entry, branch)\n",
    "      bridx = bridx + 1\n",
    "\n",
    "    counter = counter + 1\n",
    "  \n",
    "  tfil.Close()\n",
    "\n",
    "  return data\n",
    "\n",
    "\n",
    "\n",
    "\n",
    "def getDataFromFileWithCut(fileinfo, branchlist, cut_variable, cut_value) :\n",
    "\n",
    "  tfil = root.TFile(fileinfo)\n",
    "  tree = tfil.Get('flatTree')\n",
    "  \n",
    "  datasize = tree.GetEntries(cut_variable + \" == \" +  str(cut_value))\n",
    "  \n",
    "  print \"Reading NN inputs from \" + fileinfo\n",
    "  data = np.empty([datasize, len(branchlist)])\n",
    "  counter = 0\n",
    "  for entry in tree :\n",
    "    bridx = 0\n",
    "    \n",
    "    # check cut\n",
    "    if getattr(entry, cut_variable) == cut_value :\n",
    "    \n",
    "      for branch in branchlist :\n",
    "        data[counter][bridx] = getattr(entry, branch)\n",
    "          \n",
    "        bridx = bridx + 1\n",
    "     \n",
    "      counter = counter + 1\n",
    "  \n",
    "  tfil.Close()\n",
    "\n",
    "  print \" counter = \", counter \n",
    "  \n",
    "  return data\n",
    "\n",
    "\n",
    "\n",
    "\n",
    "\n",
    "\n",
    "def getDataFromFileWithCutGreater(fileinfo, branchlist, cut_variable, cut_value) :\n",
    "\n",
    "  tfil = root.TFile(fileinfo)\n",
    "  tree = tfil.Get('flatTree')\n",
    "\n",
    "  datasize = tree.GetEntries(cut_variable + \" >= \" +  str(cut_value))\n",
    " \n",
    "  print \"Reading NN inputs from \" + fileinfo\n",
    "  data = np.empty([datasize, len(branchlist)])\n",
    "  counter = 0\n",
    "  for entry in tree :\n",
    "    bridx = 0\n",
    "    \n",
    "    # check cut\n",
    "    if getattr(entry, cut_variable) >= cut_value :\n",
    "    \n",
    "      for branch in branchlist :\n",
    "        data[counter][bridx] = getattr(entry, branch)\n",
    "        bridx = bridx + 1\n",
    "     \n",
    "      counter = counter + 1\n",
    "  \n",
    "  tfil.Close()\n",
    "\n",
    "  print \" counter = \", counter \n",
    "  \n",
    "  return data\n"
   ]
  },
  {
   "cell_type": "code",
   "execution_count": 4,
   "metadata": {},
   "outputs": [
    {
     "name": "stdout",
     "output_type": "stream",
     "text": [
      " brlist =  ['tk_dedxl0', 'tk_dedxl1', 'tk_dedxl2', 'tk_dedxl3', 'tk_dedxl4', 'tk_dedxl5', 'tk_dedxl6']\n",
      "Reading NN inputs from flat_tree_Z.root\n",
      " counter =  70449\n",
      " bkg data.size =  493143  --->  70449\n",
      "Splitting data between 35224 training and 35224 testing samples bkg ...\n"
     ]
    }
   ],
   "source": [
    "\n",
    "#######################################\n",
    "#\n",
    "# Start here\n",
    "#\n",
    "\n",
    "zllfile = 'flat_tree_Z.root'\n",
    " \n",
    "brlist  = ['tk_dedxl0', 'tk_dedxl1', 'tk_dedxl2', 'tk_dedxl3', 'tk_dedxl4', 'tk_dedxl5', 'tk_dedxl6']\n",
    "numvars = len(brlist)\n",
    "ntrain  =  0.50   # 80% for train\n",
    "ntest   =  1 - ntrain\n",
    "\n",
    "print \" brlist = \", brlist\n",
    "data_bkg = getDataFromFileWithCutGreater (zllfile, brlist, 'tk_category', 1 )\n",
    "\n",
    "print \" bkg data.size = \" , data_bkg.size , \" ---> \", data_bkg.size/numvars\n",
    "\n",
    "datasize_bkg = data_bkg.size/numvars\n",
    "\n",
    "print \"Splitting data between \" + str(int(len(data_bkg)*ntrain)) + \" training and \" + str(int(len(data_bkg)*ntest)) + \" testing samples bkg ...\"\n",
    "\n",
    "data_bkg_train = data_bkg[ : int(len(data_bkg)*ntrain) ]\n",
    "data_bkg_test  = data_bkg[ int(len(data_bkg)*ntrain) : ]\n",
    "\n",
    "data_train = np.vstack( [ data_bkg_train] )\n",
    "data_test  = np.vstack( [ data_bkg_test ] )\n"
   ]
  },
  {
   "cell_type": "code",
   "execution_count": 5,
   "metadata": {},
   "outputs": [
    {
     "name": "stderr",
     "output_type": "stream",
     "text": [
      "Using TensorFlow backend.\n"
     ]
    }
   ],
   "source": [
    "#\n",
    "#\n",
    "#\n",
    "# Keras model\n",
    "#\n",
    "#\n",
    "\n",
    "import matplotlib.pyplot as plt\n",
    "\n",
    "from matplotlib import cm\n",
    "\n",
    "from scipy.stats import norm\n",
    "\n",
    "from keras import backend as K\n",
    "\n",
    "from keras.layers import Input, Dense, Lambda, Layer, Add, Multiply\n",
    "from keras.models import Model, Sequential\n",
    "from keras.datasets import mnist\n",
    "\n",
    "original_dim = numvars\n",
    "intermediate_dim = 4\n",
    "latent_dim = 7    # one for each layer ?\n",
    "batch_size = 100\n",
    "epochs = 50\n",
    "epsilon_std = 1.0\n",
    "\n",
    "\n"
   ]
  },
  {
   "cell_type": "code",
   "execution_count": 6,
   "metadata": {},
   "outputs": [],
   "source": [
    "\n",
    "def nll(y_true, y_pred):\n",
    "    \"\"\" Negative log likelihood (Bernoulli). \"\"\"\n",
    "\n",
    "    # keras.losses.binary_crossentropy gives the mean\n",
    "    # over the last axis. we require the sum\n",
    "    return K.sum(K.binary_crossentropy(y_true, y_pred), axis=-1)\n",
    "\n"
   ]
  },
  {
   "cell_type": "code",
   "execution_count": 7,
   "metadata": {},
   "outputs": [],
   "source": [
    "\n",
    "class KLDivergenceLayer(Layer):\n",
    "\n",
    "    \"\"\" Identity transform layer that adds KL divergence\n",
    "    to the final model loss.\n",
    "    \"\"\"\n",
    "\n",
    "    def __init__(self, *args, **kwargs):\n",
    "        self.is_placeholder = True\n",
    "        super(KLDivergenceLayer, self).__init__(*args, **kwargs)\n",
    "\n",
    "    def call(self, inputs):\n",
    "\n",
    "        mu, log_var = inputs\n",
    "\n",
    "        kl_batch = - .5 * K.sum(1 + log_var -\n",
    "                                K.square(mu) -\n",
    "                                K.exp(log_var), axis=-1)\n",
    "\n",
    "        self.add_loss(K.mean(kl_batch), inputs=inputs)\n",
    "\n",
    "        return inputs\n"
   ]
  },
  {
   "cell_type": "code",
   "execution_count": 8,
   "metadata": {},
   "outputs": [],
   "source": [
    "\n",
    "decoder = Sequential ([\n",
    "    Dense(intermediate_dim, input_dim=latent_dim, activation='relu'),\n",
    "    Dense(original_dim, activation='sigmoid')\n",
    "    ])\n",
    "\n"
   ]
  },
  {
   "cell_type": "code",
   "execution_count": 9,
   "metadata": {},
   "outputs": [],
   "source": [
    "x = Input(shape=(original_dim,))\n",
    "h = Dense(intermediate_dim, activation='relu')(x)\n",
    "\n",
    "z_mu = Dense(latent_dim)(h)\n",
    "z_log_var = Dense(latent_dim)(h)\n",
    "\n",
    "z_mu, z_log_var = KLDivergenceLayer()([z_mu, z_log_var])\n",
    "z_sigma = Lambda(lambda t: K.exp(.5*t))(z_log_var)\n",
    "\n",
    "eps = Input(tensor=K.random_normal(stddev=epsilon_std, shape=(K.shape(x)[0], latent_dim)))\n",
    "\n",
    "z_eps = Multiply()([z_sigma, eps])\n",
    "z = Add()([z_mu, z_eps])\n",
    "\n",
    "x_pred = decoder(z)\n"
   ]
  },
  {
   "cell_type": "code",
   "execution_count": 10,
   "metadata": {},
   "outputs": [],
   "source": [
    "\n",
    "vae = Model ( inputs=[x, eps], outputs=x_pred)\n",
    "vae.compile (optimizer='rmsprop', loss=nll)\n"
   ]
  },
  {
   "cell_type": "code",
   "execution_count": 11,
   "metadata": {},
   "outputs": [
    {
     "name": "stdout",
     "output_type": "stream",
     "text": [
      "Train on 35224 samples, validate on 35225 samples\n",
      "Epoch 1/50\n",
      "35224/35224 [==============================] - 2s 55us/step - loss: -14.8784 - val_loss: -62.6208\n",
      "Epoch 2/50\n",
      "35224/35224 [==============================] - 2s 44us/step - loss: -114.5975 - val_loss: -150.0599\n",
      "Epoch 3/50\n",
      "35224/35224 [==============================] - 1s 42us/step - loss: -163.5404 - val_loss: -172.0216\n",
      "Epoch 4/50\n",
      "35224/35224 [==============================] - 2s 46us/step - loss: -175.5442 - val_loss: -178.2500\n",
      "Epoch 5/50\n",
      "35224/35224 [==============================] - 2s 48us/step - loss: -179.4730 - val_loss: -180.8007\n",
      "Epoch 6/50\n",
      "35224/35224 [==============================] - 1s 42us/step - loss: -181.2942 - val_loss: -182.1019\n",
      "Epoch 7/50\n",
      "35224/35224 [==============================] - 1s 42us/step - loss: -182.3437 - val_loss: -182.9861\n",
      "Epoch 8/50\n",
      "35224/35224 [==============================] - 2s 44us/step - loss: -183.1109 - val_loss: -183.6704\n",
      "Epoch 9/50\n",
      "35224/35224 [==============================] - 2s 48us/step - loss: -183.6394 - val_loss: -184.1263\n",
      "Epoch 10/50\n",
      "35224/35224 [==============================] - 2s 45us/step - loss: -183.9907 - val_loss: -184.4394\n",
      "Epoch 11/50\n",
      "35224/35224 [==============================] - 2s 46us/step - loss: -184.3966 - val_loss: -184.6977\n",
      "Epoch 12/50\n",
      "35224/35224 [==============================] - 2s 45us/step - loss: -184.5402 - val_loss: -184.8481\n",
      "Epoch 13/50\n",
      "35224/35224 [==============================] - 2s 47us/step - loss: -184.7021 - val_loss: -185.0021\n",
      "Epoch 14/50\n",
      "35224/35224 [==============================] - 2s 48us/step - loss: -184.9192 - val_loss: -185.1068\n",
      "Epoch 15/50\n",
      "35224/35224 [==============================] - 2s 46us/step - loss: -184.9455 - val_loss: -185.2153\n",
      "Epoch 16/50\n",
      "35224/35224 [==============================] - 2s 45us/step - loss: -185.0956 - val_loss: -185.1615\n",
      "Epoch 17/50\n",
      "35224/35224 [==============================] - 1s 41us/step - loss: -185.1516 - val_loss: -185.4521\n",
      "Epoch 18/50\n",
      "35224/35224 [==============================] - 2s 47us/step - loss: -185.2569 - val_loss: -185.5278\n",
      "Epoch 19/50\n",
      "35224/35224 [==============================] - 2s 47us/step - loss: -185.3837 - val_loss: -185.5393\n",
      "Epoch 20/50\n",
      "35224/35224 [==============================] - 2s 49us/step - loss: -185.4863 - val_loss: -185.6618\n",
      "Epoch 21/50\n",
      "35224/35224 [==============================] - 2s 47us/step - loss: -185.5552 - val_loss: -185.7762\n",
      "Epoch 22/50\n",
      "35224/35224 [==============================] - 2s 48us/step - loss: -185.5868 - val_loss: -185.9239\n",
      "Epoch 23/50\n",
      "35224/35224 [==============================] - 2s 50us/step - loss: -185.7645 - val_loss: -185.9597\n",
      "Epoch 24/50\n",
      "35224/35224 [==============================] - 2s 45us/step - loss: -185.9002 - val_loss: -186.1692\n",
      "Epoch 25/50\n",
      "35224/35224 [==============================] - 2s 46us/step - loss: -185.9605 - val_loss: -186.2722\n",
      "Epoch 26/50\n",
      "35224/35224 [==============================] - 2s 48us/step - loss: -186.0700 - val_loss: -186.4288\n",
      "Epoch 27/50\n",
      "35224/35224 [==============================] - 2s 46us/step - loss: -186.2167 - val_loss: -186.5110\n",
      "Epoch 28/50\n",
      "35224/35224 [==============================] - 2s 47us/step - loss: -186.3203 - val_loss: -186.5969\n",
      "Epoch 29/50\n",
      "35224/35224 [==============================] - 2s 48us/step - loss: -186.4036 - val_loss: -186.7300\n",
      "Epoch 30/50\n",
      "35224/35224 [==============================] - 2s 45us/step - loss: -186.5303 - val_loss: -186.7915\n",
      "Epoch 31/50\n",
      "35224/35224 [==============================] - 2s 45us/step - loss: -186.5972 - val_loss: -186.8692\n",
      "Epoch 32/50\n",
      "35224/35224 [==============================] - 1s 42us/step - loss: -186.6405 - val_loss: -186.9538\n",
      "Epoch 33/50\n",
      "35224/35224 [==============================] - 2s 46us/step - loss: -186.6986 - val_loss: -187.0224\n",
      "Epoch 34/50\n",
      "35224/35224 [==============================] - 2s 43us/step - loss: -186.7825 - val_loss: -187.0567\n",
      "Epoch 35/50\n",
      "35224/35224 [==============================] - 1s 42us/step - loss: -186.8338 - val_loss: -187.0836\n",
      "Epoch 36/50\n",
      "35224/35224 [==============================] - 2s 44us/step - loss: -186.8872 - val_loss: -187.1302\n",
      "Epoch 37/50\n",
      "35224/35224 [==============================] - 2s 46us/step - loss: -186.8915 - val_loss: -187.1354\n",
      "Epoch 38/50\n",
      "35224/35224 [==============================] - 2s 44us/step - loss: -186.9653 - val_loss: -187.1746\n",
      "Epoch 39/50\n",
      "35224/35224 [==============================] - 2s 45us/step - loss: -186.9974 - val_loss: -187.1581\n",
      "Epoch 40/50\n",
      "35224/35224 [==============================] - 2s 47us/step - loss: -186.9613 - val_loss: -187.2214\n",
      "Epoch 41/50\n",
      "35224/35224 [==============================] - 2s 46us/step - loss: -187.0228 - val_loss: -187.2107\n",
      "Epoch 42/50\n",
      "35224/35224 [==============================] - 2s 48us/step - loss: -187.0204 - val_loss: -187.2531\n",
      "Epoch 43/50\n",
      "35224/35224 [==============================] - 2s 48us/step - loss: -187.0373 - val_loss: -187.3008\n",
      "Epoch 44/50\n",
      "35224/35224 [==============================] - 2s 48us/step - loss: -187.0485 - val_loss: -187.2907\n",
      "Epoch 45/50\n",
      "35224/35224 [==============================] - 2s 48us/step - loss: -187.0420 - val_loss: -187.2760\n",
      "Epoch 46/50\n",
      "35224/35224 [==============================] - 2s 46us/step - loss: -187.0779 - val_loss: -187.2807\n",
      "Epoch 47/50\n",
      "35224/35224 [==============================] - 2s 45us/step - loss: -187.1139 - val_loss: -187.2735\n",
      "Epoch 48/50\n",
      "35224/35224 [==============================] - 2s 47us/step - loss: -187.0903 - val_loss: -187.3436\n",
      "Epoch 49/50\n",
      "35224/35224 [==============================] - 2s 46us/step - loss: -187.1054 - val_loss: -187.3651\n",
      "Epoch 50/50\n",
      "35224/35224 [==============================] - 2s 50us/step - loss: -187.1060 - val_loss: -187.3139\n"
     ]
    },
    {
     "name": "stderr",
     "output_type": "stream",
     "text": [
      "2018-12-14 16:03:35.370147: I tensorflow/core/platform/cpu_feature_guard.cc:140] Your CPU supports instructions that this TensorFlow binary was not compiled to use: SSE4.1 SSE4.2 AVX AVX2 FMA\n"
     ]
    }
   ],
   "source": [
    "\n",
    "# train the VAE \n",
    "x_train = data_train\n",
    "x_test  = data_test\n",
    "\n",
    "\n",
    "history = vae.fit(x_train,   # source\n",
    "                  x_train,   # target --> autoencoder, then the target is the same as the input\n",
    "                  shuffle = True,\n",
    "                  epochs = epochs,\n",
    "                  batch_size = batch_size,\n",
    "                  validation_data = (x_test, x_test))    # target = input also in the testing\n"
   ]
  },
  {
   "cell_type": "code",
   "execution_count": 12,
   "metadata": {},
   "outputs": [],
   "source": [
    "encoder = Model(x, z_mu)\n",
    "\n"
   ]
  },
  {
   "cell_type": "code",
   "execution_count": 13,
   "metadata": {},
   "outputs": [],
   "source": [
    "\n",
    "# display a plot of the latent space\n",
    "z_test = encoder.predict(x_test, batch_size = batch_size)\n",
    "\n"
   ]
  },
  {
   "cell_type": "code",
   "execution_count": 14,
   "metadata": {},
   "outputs": [
    {
     "name": "stdout",
     "output_type": "stream",
     "text": [
      "z_test =  [[-3.8183315e-03 -6.6958275e-03 -8.2860112e-01 ... -1.7866209e-02\n",
      "  -1.0036972e+00 -9.6974326e-03]\n",
      " [-4.7344691e-04 -4.7726231e-04 -6.8174958e-02 ...  5.8930367e-04\n",
      "   7.3106492e-01  7.6122582e-04]\n",
      " [ 1.5416278e-03  1.5369179e-03 -8.3268404e-02 ... -2.4333924e-02\n",
      "   6.5106869e-01  1.2498125e-02]\n",
      " ...\n",
      " [-1.2066453e-03 -1.9510621e-03 -9.7293079e-02 ...  1.1562340e-02\n",
      "   7.4109399e-01 -4.3151304e-03]\n",
      " [-1.6697426e-04  1.3359077e-04 -6.1271548e-02 ... -4.4643357e-03\n",
      "   7.1843386e-01  2.9751211e-03]\n",
      " [-1.5739105e-03 -2.6838658e-03 -1.1921960e-01 ...  1.6262807e-02\n",
      "   7.2561669e-01 -6.7101009e-03]]\n",
      "x_test =  [[ 3.09220743  2.91992331  2.75642848 ...  2.15135527 -1.\n",
      "  -1.        ]\n",
      " [ 2.30208063  2.25768137  4.39406109 ... -1.         -1.\n",
      "  -1.        ]\n",
      " [ 6.45768356  2.49957013  4.46570492 ... -1.         -1.\n",
      "  -1.        ]\n",
      " ...\n",
      " [ 3.21668196  2.88433599  2.30361819 ... -1.         -1.\n",
      "  -1.        ]\n",
      " [ 4.00258541  2.30555749  2.87209988 ... -1.         -1.\n",
      "  -1.        ]\n",
      " [ 1.39788163  2.44209385  2.4899857  ... -1.         -1.\n",
      "  -1.        ]]\n"
     ]
    }
   ],
   "source": [
    "print \"z_test = \", z_test\n",
    "\n",
    "print \"x_test = \", x_test\n",
    "\n"
   ]
  },
  {
   "cell_type": "code",
   "execution_count": 15,
   "metadata": {},
   "outputs": [
    {
     "data": {
      "image/png": "[encoded data removed]",
      "text/plain": [
       "<Figure size 216x216 with 1 Axes>"
      ]
     },
     "metadata": {},
     "output_type": "display_data"
    },
    {
     "data": {
      "image/png": "[encoded data removed]",
      "text/plain": [
       "<Figure size 216x216 with 1 Axes>"
      ]
     },
     "metadata": {},
     "output_type": "display_data"
    },
    {
     "data": {
      "image/png": "[encoded data removed]",
      "text/plain": [
       "<Figure size 216x216 with 1 Axes>"
      ]
     },
     "metadata": {},
     "output_type": "display_data"
    },
    {
     "data": {
      "image/png": "[encoded data removed]",
      "text/plain": [
       "<Figure size 216x216 with 1 Axes>"
      ]
     },
     "metadata": {},
     "output_type": "display_data"
    },
    {
     "data": {
      "image/png": "[encoded data removed]",
      "text/plain": [
       "<Figure size 216x216 with 1 Axes>"
      ]
     },
     "metadata": {},
     "output_type": "display_data"
    },
    {
     "data": {
      "image/png": "[encoded data removed]",
      "text/plain": [
       "<Figure size 216x216 with 1 Axes>"
      ]
     },
     "metadata": {},
     "output_type": "display_data"
    },
    {
     "data": {
      "image/png": "[encoded data removed]",
      "text/plain": [
       "<Figure size 216x216 with 1 Axes>"
      ]
     },
     "metadata": {},
     "output_type": "display_data"
    }
   ],
   "source": [
    "#plt.hist( z_test[:,0], bins = 50)\n",
    "#plt.hist( x_test[:,0], bins = 50)\n",
    "\n",
    "\n",
    "\n",
    "for inode in range(7):\n",
    "  fig = plt.figure(inode, figsize = (3,3))\n",
    "  plt.hist( z_test[:,inode], bins = 50)\n",
    "\n",
    "\n"
   ]
  },
  {
   "cell_type": "code",
   "execution_count": 16,
   "metadata": {},
   "outputs": [
    {
     "data": {
      "image/png": "[encoded data removed]",
      "text/plain": [
       "<Figure size 216x216 with 1 Axes>"
      ]
     },
     "metadata": {},
     "output_type": "display_data"
    },
    {
     "data": {
      "image/png": "[encoded data removed]",
      "text/plain": [
       "<Figure size 216x216 with 1 Axes>"
      ]
     },
     "metadata": {},
     "output_type": "display_data"
    },
    {
     "data": {
      "image/png": "[encoded data removed]",
      "text/plain": [
       "<Figure size 216x216 with 1 Axes>"
      ]
     },
     "metadata": {},
     "output_type": "display_data"
    },
    {
     "data": {
      "image/png": "[encoded data removed]",
      "text/plain": [
       "<Figure size 216x216 with 1 Axes>"
      ]
     },
     "metadata": {},
     "output_type": "display_data"
    },
    {
     "data": {
      "image/png": "[encoded data removed]",
      "text/plain": [
       "<Figure size 216x216 with 1 Axes>"
      ]
     },
     "metadata": {},
     "output_type": "display_data"
    },
    {
     "data": {
      "image/png": "[encoded data removed]",
      "text/plain": [
       "<Figure size 216x216 with 1 Axes>"
      ]
     },
     "metadata": {},
     "output_type": "display_data"
    },
    {
     "data": {
      "image/png": "[encoded data removed]",
      "text/plain": [
       "<Figure size 216x216 with 1 Axes>"
      ]
     },
     "metadata": {},
     "output_type": "display_data"
    }
   ],
   "source": [
    "\n",
    "\n",
    "for inode in range(original_dim):\n",
    "  fig = plt.figure(inode+7, figsize = (3,3))\n",
    "  plt.hist( x_test[:,inode], bins = 50)\n"
   ]
  },
  {
   "cell_type": "code",
   "execution_count": 17,
   "metadata": {},
   "outputs": [
    {
     "data": {
      "image/png": "[encoded data removed]",
      "text/plain": [
       "<Figure size 864x864 with 1 Axes>"
      ]
     },
     "metadata": {},
     "output_type": "display_data"
    }
   ],
   "source": [
    "\n",
    "\n",
    "#########################################################\n",
    "## validation plot\n",
    "\n",
    "fig_validation = plt.figure(8+7, figsize=(12,12))\n",
    "\n",
    "epochs = range(1, len(history.history[\"loss\"])+1)\n",
    "plt.plot(epochs, history.history[\"loss\"], lw=3, label=\"Training loss\")\n",
    "plt.plot(epochs, history.history[\"val_loss\"], lw=3, label=\"Validation loss\")\n",
    "plt.xlabel(\"Epoch\"), plt.ylabel(\"Cross-entropy loss\");\n",
    "\n"
   ]
  },
  {
   "cell_type": "code",
   "execution_count": 18,
   "metadata": {},
   "outputs": [
    {
     "name": "stdout",
     "output_type": "stream",
     "text": [
      "__________________________________________________________________________________________________\n",
      "Layer (type)                    Output Shape         Param #     Connected to                     \n",
      "==================================================================================================\n",
      "input_1 (InputLayer)            (None, 7)            0                                            \n",
      "__________________________________________________________________________________________________\n",
      "dense_3 (Dense)                 (None, 4)            32          input_1[0][0]                    \n",
      "__________________________________________________________________________________________________\n",
      "dense_4 (Dense)                 (None, 7)            35          dense_3[0][0]                    \n",
      "__________________________________________________________________________________________________\n",
      "dense_5 (Dense)                 (None, 7)            35          dense_3[0][0]                    \n",
      "__________________________________________________________________________________________________\n",
      "kl_divergence_layer_1 (KLDiverg [(None, 7), (None, 7 0           dense_4[0][0]                    \n",
      "                                                                 dense_5[0][0]                    \n",
      "__________________________________________________________________________________________________\n",
      "lambda_1 (Lambda)               (None, 7)            0           kl_divergence_layer_1[0][1]      \n",
      "__________________________________________________________________________________________________\n",
      "input_2 (InputLayer)            (None, 7)            0                                            \n",
      "__________________________________________________________________________________________________\n",
      "multiply_1 (Multiply)           (None, 7)            0           lambda_1[0][0]                   \n",
      "                                                                 input_2[0][0]                    \n",
      "__________________________________________________________________________________________________\n",
      "add_1 (Add)                     (None, 7)            0           kl_divergence_layer_1[0][0]      \n",
      "                                                                 multiply_1[0][0]                 \n",
      "__________________________________________________________________________________________________\n",
      "sequential_1 (Sequential)       (None, 7)            67          add_1[0][0]                      \n",
      "==================================================================================================\n",
      "Total params: 169\n",
      "Trainable params: 169\n",
      "Non-trainable params: 0\n",
      "__________________________________________________________________________________________________\n"
     ]
    }
   ],
   "source": [
    "\n",
    "#########################################################\n",
    "## plot structure of NN\n",
    "\n",
    "from keras.utils import plot_model, print_summary\n",
    "print_summary(vae)\n",
    "\n",
    "plot_model(vae, to_file='model_plot.png', show_shapes=True, show_layer_names=True)\n",
    "\n"
   ]
  },
  {
   "cell_type": "code",
   "execution_count": 19,
   "metadata": {},
   "outputs": [
    {
     "data": {
      "text/plain": [
       "(array([[0., 0., 0., ..., 0., 0., 0.],\n",
       "        [0., 0., 0., ..., 0., 0., 0.],\n",
       "        [0., 0., 0., ..., 0., 0., 0.],\n",
       "        ...,\n",
       "        [0., 0., 0., ..., 0., 0., 0.],\n",
       "        [0., 0., 0., ..., 0., 0., 0.],\n",
       "        [0., 0., 0., ..., 0., 0., 0.]]),\n",
       " array([ 0.09088472,  0.59578764,  1.10069057,  1.60559349,  2.11049641,\n",
       "         2.61539934,  3.12030226,  3.62520519,  4.13010811,  4.63501104,\n",
       "         5.13991396,  5.64481689,  6.14971981,  6.65462274,  7.15952566,\n",
       "         7.66442859,  8.16933151,  8.67423444,  9.17913736,  9.68404029,\n",
       "        10.18894321, 10.69384614, 11.19874906, 11.70365199, 12.20855491,\n",
       "        12.71345784, 13.21836076, 13.72326369, 14.22816661, 14.73306954,\n",
       "        15.23797246, 15.74287539, 16.24777831, 16.75268124, 17.25758416,\n",
       "        17.76248709, 18.26739001, 18.77229294, 19.27719586, 19.78209879,\n",
       "        20.28700171, 20.79190464, 21.29680756, 21.80171049, 22.30661341,\n",
       "        22.81151634, 23.31641926, 23.82132219, 24.32622511, 24.83112804,\n",
       "        25.33603096]),\n",
       " array([0.5 , 0.52, 0.54, 0.56, 0.58, 0.6 , 0.62, 0.64, 0.66, 0.68, 0.7 ,\n",
       "        0.72, 0.74, 0.76, 0.78, 0.8 , 0.82, 0.84, 0.86, 0.88, 0.9 , 0.92,\n",
       "        0.94, 0.96, 0.98, 1.  , 1.02, 1.04, 1.06, 1.08, 1.1 , 1.12, 1.14,\n",
       "        1.16, 1.18, 1.2 , 1.22, 1.24, 1.26, 1.28, 1.3 , 1.32, 1.34, 1.36,\n",
       "        1.38, 1.4 , 1.42, 1.44, 1.46, 1.48, 1.5 ]),\n",
       " <matplotlib.image.AxesImage at 0x7f01b437ead0>)"
      ]
     },
     "execution_count": 19,
     "metadata": {},
     "output_type": "execute_result"
    },
    {
     "data": {
      "image/png": "[encoded data removed]",
      "text/plain": [
       "<Figure size 720x720 with 1 Axes>"
      ]
     },
     "metadata": {},
     "output_type": "display_data"
    }
   ],
   "source": [
    "x_reg_test = vae.predict(x_test, batch_size = batch_size)\n",
    "\n",
    "fig = plt.figure(14, figsize = (10,10))\n",
    "plt.hist2d( x_test[:,0], x_reg_test[:,0], bins = 50)\n"
   ]
  },
  {
   "cell_type": "code",
   "execution_count": 20,
   "metadata": {},
   "outputs": [
    {
     "data": {
      "text/plain": [
       "(array([    0.,     0.,     0.,     0.,     0.,     0.,     0.,     0.,\n",
       "            0.,     0.,     0.,     0.,     0.,     0.,     0.,     0.,\n",
       "            0.,     0.,     0.,     0.,     0.,     0.,     0.,     0.,\n",
       "            0., 35225.,     0.,     0.,     0.,     0.,     0.,     0.,\n",
       "            0.,     0.,     0.,     0.,     0.,     0.,     0.,     0.,\n",
       "            0.,     0.,     0.,     0.,     0.,     0.,     0.,     0.,\n",
       "            0.,     0.]),\n",
       " array([0.5 , 0.52, 0.54, 0.56, 0.58, 0.6 , 0.62, 0.64, 0.66, 0.68, 0.7 ,\n",
       "        0.72, 0.74, 0.76, 0.78, 0.8 , 0.82, 0.84, 0.86, 0.88, 0.9 , 0.92,\n",
       "        0.94, 0.96, 0.98, 1.  , 1.02, 1.04, 1.06, 1.08, 1.1 , 1.12, 1.14,\n",
       "        1.16, 1.18, 1.2 , 1.22, 1.24, 1.26, 1.28, 1.3 , 1.32, 1.34, 1.36,\n",
       "        1.38, 1.4 , 1.42, 1.44, 1.46, 1.48, 1.5 ]),\n",
       " <a list of 50 Patch objects>)"
      ]
     },
     "execution_count": 20,
     "metadata": {},
     "output_type": "execute_result"
    },
    {
     "data": {
      "image/png": "[encoded data removed]",
      "text/plain": [
       "<Figure size 432x288 with 1 Axes>"
      ]
     },
     "metadata": {},
     "output_type": "display_data"
    }
   ],
   "source": [
    "plt.hist( x_reg_test[:,0], bins = 50)\n"
   ]
  },
  {
   "cell_type": "code",
   "execution_count": 21,
   "metadata": {},
   "outputs": [
    {
     "data": {
      "text/plain": [
       "(array([3.4100e+02, 5.8900e+02, 7.5100e+02, 1.6420e+03, 6.2450e+03,\n",
       "        1.0252e+04, 6.7600e+03, 3.5020e+03, 2.0880e+03, 1.0880e+03,\n",
       "        5.6200e+02, 3.2700e+02, 2.4200e+02, 1.7000e+02, 1.4800e+02,\n",
       "        8.7000e+01, 8.7000e+01, 7.0000e+01, 4.7000e+01, 3.8000e+01,\n",
       "        2.8000e+01, 2.4000e+01, 1.8000e+01, 2.5000e+01, 1.2000e+01,\n",
       "        1.2000e+01, 1.3000e+01, 8.0000e+00, 9.0000e+00, 6.0000e+00,\n",
       "        5.0000e+00, 1.0000e+00, 7.0000e+00, 3.0000e+00, 5.0000e+00,\n",
       "        2.0000e+00, 1.0000e+00, 1.0000e+00, 2.0000e+00, 1.0000e+00,\n",
       "        1.0000e+00, 1.0000e+00, 0.0000e+00, 0.0000e+00, 0.0000e+00,\n",
       "        2.0000e+00, 0.0000e+00, 1.0000e+00, 0.0000e+00, 1.0000e+00]),\n",
       " array([ 0.09088472,  0.59578764,  1.10069057,  1.60559349,  2.11049641,\n",
       "         2.61539934,  3.12030226,  3.62520519,  4.13010811,  4.63501104,\n",
       "         5.13991396,  5.64481689,  6.14971981,  6.65462274,  7.15952566,\n",
       "         7.66442859,  8.16933151,  8.67423444,  9.17913736,  9.68404029,\n",
       "        10.18894321, 10.69384614, 11.19874906, 11.70365199, 12.20855491,\n",
       "        12.71345784, 13.21836076, 13.72326369, 14.22816661, 14.73306954,\n",
       "        15.23797246, 15.74287539, 16.24777831, 16.75268124, 17.25758416,\n",
       "        17.76248709, 18.26739001, 18.77229294, 19.27719586, 19.78209879,\n",
       "        20.28700171, 20.79190464, 21.29680756, 21.80171049, 22.30661341,\n",
       "        22.81151634, 23.31641926, 23.82132219, 24.32622511, 24.83112804,\n",
       "        25.33603096]),\n",
       " <a list of 50 Patch objects>)"
      ]
     },
     "execution_count": 21,
     "metadata": {},
     "output_type": "execute_result"
    },
    {
     "data": {
      "image/png": "[encoded data removed]",
      "text/plain": [
       "<Figure size 432x288 with 1 Axes>"
      ]
     },
     "metadata": {},
     "output_type": "display_data"
    }
   ],
   "source": [
    "plt.hist( x_test[:,0], bins = 50)\n"
   ]
  },
  {
   "cell_type": "code",
   "execution_count": null,
   "metadata": {},
   "outputs": [],
   "source": []
  },
  {
   "cell_type": "code",
   "execution_count": null,
   "metadata": {},
   "outputs": [],
   "source": []
  }
 ],
 "metadata": {
  "kernelspec": {
   "display_name": "Python 2",
   "language": "python",
   "name": "python2"
  },
  "language_info": {
   "codemirror_mode": {
    "name": "ipython",
    "version": 2
   },
   "file_extension": ".py",
   "mimetype": "text/x-python",
   "name": "python",
   "nbconvert_exporter": "python",
   "pygments_lexer": "ipython2",
   "version": "2.7.15"
  }
 },
 "nbformat": 4,
 "nbformat_minor": 2
}
