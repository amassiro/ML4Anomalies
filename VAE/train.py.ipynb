{
 "cells": [
  {
   "cell_type": "code",
   "execution_count": 1,
   "metadata": {},
   "outputs": [
    {
     "name": "stdout",
     "output_type": "stream",
     "text": [
      "Welcome to JupyROOT 6.14/04\n"
     ]
    }
   ],
   "source": [
    "import ROOT as root\n",
    "import numpy as np\n",
    "\n",
    "np.random.seed(1234)\n",
    "\n"
   ]
  },
  {
   "cell_type": "code",
   "execution_count": 2,
   "metadata": {},
   "outputs": [],
   "source": [
    "\n",
    "def getDataFromFile(fileinfo, branchlist) :\n",
    "\n",
    "  tfil = root.TFile(fileinfo)\n",
    "  tree = tfil.Get('flatTree')\n",
    "  datasize = tree.GetEntriesFast()\n",
    "  \n",
    "  print \"Reading NN inputs from \" + fileinfo\n",
    "  data = np.empty([datasize, len(branchlist)])\n",
    "  counter = 0\n",
    "  for entry in tree :\n",
    "    bridx = 0\n",
    "    for branch in branchlist :\n",
    "      data[counter][bridx] = getattr(entry, branch)\n",
    "      bridx = bridx + 1\n",
    "\n",
    "    counter = counter + 1\n",
    "  \n",
    "  tfil.Close()\n",
    "\n",
    "  return data\n",
    "\n",
    "\n",
    "\n",
    "\n",
    "def getDataFromFileWithCut(fileinfo, branchlist, cut_variable, cut_value) :\n",
    "\n",
    "  tfil = root.TFile(fileinfo)\n",
    "  tree = tfil.Get('flatTree')\n",
    "  \n",
    "  datasize = tree.GetEntries(cut_variable + \" == \" +  str(cut_value))\n",
    "  \n",
    "  print \"Reading NN inputs from \" + fileinfo\n",
    "  data = np.empty([datasize, len(branchlist)])\n",
    "  counter = 0\n",
    "  for entry in tree :\n",
    "    bridx = 0\n",
    "    \n",
    "    # check cut\n",
    "    if getattr(entry, cut_variable) == cut_value :\n",
    "    \n",
    "      for branch in branchlist :\n",
    "        data[counter][bridx] = getattr(entry, branch)\n",
    "          \n",
    "        bridx = bridx + 1\n",
    "     \n",
    "      counter = counter + 1\n",
    "  \n",
    "  tfil.Close()\n",
    "\n",
    "  print \" counter = \", counter \n",
    "  \n",
    "  return data\n",
    "\n",
    "\n",
    "\n",
    "\n",
    "\n",
    "\n",
    "def getDataFromFileWithCutGreater(fileinfo, branchlist, cut_variable, cut_value) :\n",
    "\n",
    "  tfil = root.TFile(fileinfo)\n",
    "  tree = tfil.Get('flatTree')\n",
    "\n",
    "  datasize = tree.GetEntries(cut_variable + \" >= \" +  str(cut_value))\n",
    " \n",
    "  print \"Reading NN inputs from \" + fileinfo\n",
    "  data = np.empty([datasize, len(branchlist)])\n",
    "  counter = 0\n",
    "  for entry in tree :\n",
    "    bridx = 0\n",
    "    \n",
    "    # check cut\n",
    "    if getattr(entry, cut_variable) >= cut_value :\n",
    "    \n",
    "      for branch in branchlist :\n",
    "        data[counter][bridx] = getattr(entry, branch)\n",
    "        bridx = bridx + 1\n",
    "     \n",
    "      counter = counter + 1\n",
    "  \n",
    "  tfil.Close()\n",
    "\n",
    "  print \" counter = \", counter \n",
    "  \n",
    "  return data\n"
   ]
  },
  {
   "cell_type": "code",
   "execution_count": 3,
   "metadata": {},
   "outputs": [
    {
     "name": "stdout",
     "output_type": "stream",
     "text": [
      " brlist =  ['tk_dedxl0', 'tk_dedxl1', 'tk_dedxl2', 'tk_dedxl3', 'tk_dedxl4']\n",
      "Reading NN inputs from flat_tree_Z.root\n",
      " counter =  70449\n",
      " bkg data.size =  352245  --->  70449\n",
      "Splitting data between 35224 training and 35224 testing samples bkg ...\n"
     ]
    }
   ],
   "source": [
    "\n",
    "#######################################\n",
    "#\n",
    "# Start here\n",
    "#\n",
    "\n",
    "zllfile = 'flat_tree_Z.root'\n",
    " \n",
    "# brlist  = ['tk_dedxl0', 'tk_dedxl1', 'tk_dedxl2', 'tk_dedxl3', 'tk_dedxl4', 'tk_dedxl5', 'tk_dedxl6']\n",
    "# brlist  = ['tk_dedxl0', 'tk_dedxl1', 'tk_dedxl2', 'tk_dedxl3', 'tk_dedxl4']\n",
    "brlist  = ['tk_dedxl0', 'tk_dedxl1', 'tk_dedxl2', 'tk_dedxl3']\n",
    "numvars = len(brlist)\n",
    "ntrain  =  0.50   # 80% for train\n",
    "ntest   =  1 - ntrain\n",
    "\n",
    "print \" brlist = \", brlist\n",
    "data_bkg = getDataFromFileWithCutGreater (zllfile, brlist, 'tk_category', 1 )\n",
    "\n",
    "print \" bkg data.size = \" , data_bkg.size , \" ---> \", data_bkg.size/numvars\n",
    "\n",
    "datasize_bkg = data_bkg.size/numvars\n",
    "\n",
    "print \"Splitting data between \" + str(int(len(data_bkg)*ntrain)) + \" training and \" + str(int(len(data_bkg)*ntest)) + \" testing samples bkg ...\"\n",
    "\n",
    "data_bkg_train = data_bkg[ : int(len(data_bkg)*ntrain) ]\n",
    "data_bkg_test  = data_bkg[ int(len(data_bkg)*ntrain) : ]\n",
    "\n",
    "data_train = np.vstack( [ data_bkg_train] )\n",
    "data_test  = np.vstack( [ data_bkg_test ] )\n"
   ]
  },
  {
   "cell_type": "code",
   "execution_count": 4,
   "metadata": {},
   "outputs": [
    {
     "name": "stderr",
     "output_type": "stream",
     "text": [
      "Using TensorFlow backend.\n"
     ]
    }
   ],
   "source": [
    "#\n",
    "#\n",
    "#\n",
    "# Keras model\n",
    "#\n",
    "#\n",
    "\n",
    "import matplotlib.pyplot as plt\n",
    "\n",
    "from matplotlib import cm\n",
    "\n",
    "from scipy.stats import norm\n",
    "\n",
    "from keras import backend as K\n",
    "\n",
    "from keras.layers import Input, Dense, Lambda, Layer, Add, Multiply\n",
    "from keras.models import Model, Sequential\n",
    "from keras.datasets import mnist\n",
    "\n",
    "original_dim = numvars\n",
    "intermediate_dim = 4\n",
    "# latent_dim = 7    # one for each layer ?\n",
    "latent_dim = 4    # one for each layer ?\n",
    "batch_size = 100\n",
    "epochs = 50\n",
    "epsilon_std = 1.0\n",
    "\n",
    "\n"
   ]
  },
  {
   "cell_type": "code",
   "execution_count": 5,
   "metadata": {},
   "outputs": [],
   "source": [
    "\n",
    "def nll(y_true, y_pred):\n",
    "    \"\"\" Negative log likelihood (Bernoulli). \"\"\"\n",
    "\n",
    "    # keras.losses.binary_crossentropy gives the mean\n",
    "    # over the last axis. we require the sum\n",
    "    return K.sum(K.binary_crossentropy(y_true, y_pred), axis=-1)\n",
    "\n"
   ]
  },
  {
   "cell_type": "code",
   "execution_count": 6,
   "metadata": {},
   "outputs": [],
   "source": [
    "\n",
    "class KLDivergenceLayer(Layer):\n",
    "\n",
    "    \"\"\" Identity transform layer that adds KL divergence\n",
    "    to the final model loss.\n",
    "    \"\"\"\n",
    "\n",
    "    def __init__(self, *args, **kwargs):\n",
    "        self.is_placeholder = True\n",
    "        super(KLDivergenceLayer, self).__init__(*args, **kwargs)\n",
    "\n",
    "    def call(self, inputs):\n",
    "\n",
    "        mu, log_var = inputs\n",
    "\n",
    "        print \" mu = \", mu\n",
    "        print \" log_var = \", log_var\n",
    "        \n",
    "        \n",
    "        kl_batch = - .5 * K.sum(1 + log_var -\n",
    "                                K.square(mu) -\n",
    "                                K.exp(log_var), axis=-1)\n",
    "\n",
    "        self.add_loss(K.mean(kl_batch), inputs=inputs)\n",
    "\n",
    "        return inputs\n"
   ]
  },
  {
   "cell_type": "code",
   "execution_count": 7,
   "metadata": {},
   "outputs": [],
   "source": [
    "\n",
    "decoder = Sequential ([\n",
    "    Dense(intermediate_dim, input_dim=latent_dim, activation='relu'),\n",
    "    Dense(original_dim, activation='sigmoid')\n",
    "    ])\n",
    "\n"
   ]
  },
  {
   "cell_type": "code",
   "execution_count": 8,
   "metadata": {},
   "outputs": [],
   "source": [
    "x = Input(shape=(original_dim,))\n",
    "h = Dense(intermediate_dim, activation='relu')(x)\n",
    "\n",
    "#\n",
    "# h intermediate step\n",
    "#\n",
    "\n",
    "z_mu = Dense(latent_dim)(h)\n",
    "z_log_var = Dense(latent_dim)(h)\n",
    "\n",
    "#\n",
    "# from h -> 2 layers\n",
    "#\n",
    "\n",
    "z_mu, z_log_var = KLDivergenceLayer()([z_mu, z_log_var])\n",
    "z_sigma = Lambda(lambda t: K.exp(.5*t))(z_log_var)\n",
    "\n",
    "eps = Input (tensor = K.random_normal( stddev=epsilon_std, shape=(K.shape(x)[0], latent_dim) ) )\n",
    "\n",
    "z_eps = Multiply()([z_sigma, eps])\n",
    "#\n",
    "# Layer that multiplies (element-wise) a list of inputs.\n",
    "# It takes as input a list of tensors, all of the same shape, and returns a single tensor (also of the same shape).\n",
    "#\n",
    "\n",
    "z = Add()([z_mu, z_eps])\n",
    "#\n",
    "# Layer that adds a list of inputs.\n",
    "# It takes as input a list of tensors, all of the same shape, and returns a single tensor (also of the same shape).\n",
    "#\n",
    "\n",
    "x_pred = decoder(z)\n"
   ]
  },
  {
   "cell_type": "code",
   "execution_count": 9,
   "metadata": {},
   "outputs": [],
   "source": [
    "\n",
    "vae = Model ( inputs=[x, eps], outputs=x_pred)\n",
    "vae.compile (optimizer='rmsprop', loss=nll)\n"
   ]
  },
  {
   "cell_type": "code",
   "execution_count": 10,
   "metadata": {},
   "outputs": [
    {
     "name": "stdout",
     "output_type": "stream",
     "text": [
      "Train on 35224 samples, validate on 35225 samples\n",
      "Epoch 1/50\n",
      "35224/35224 [==============================] - 2s 52us/step - loss: -12.8355 - val_loss: -55.1655\n",
      "Epoch 2/50\n",
      "35224/35224 [==============================] - 2s 47us/step - loss: -96.3158 - val_loss: -120.9381\n",
      "Epoch 3/50\n",
      "35224/35224 [==============================] - 1s 42us/step - loss: -130.0552 - val_loss: -138.5054\n",
      "Epoch 4/50\n",
      "35224/35224 [==============================] - 2s 48us/step - loss: -144.8422 - val_loss: -150.0019\n",
      "Epoch 5/50\n",
      "35224/35224 [==============================] - 2s 47us/step - loss: -153.0080 - val_loss: -155.2886\n",
      "Epoch 6/50\n",
      "35224/35224 [==============================] - 2s 44us/step - loss: -156.5379 - val_loss: -157.8869\n",
      "Epoch 7/50\n",
      "35224/35224 [==============================] - 2s 46us/step - loss: -159.0625 - val_loss: -160.0643\n",
      "Epoch 8/50\n",
      "35224/35224 [==============================] - 2s 44us/step - loss: -160.4996 - val_loss: -160.9042\n",
      "Epoch 9/50\n",
      "35224/35224 [==============================] - 2s 44us/step - loss: -161.1279 - val_loss: -161.3854\n",
      "Epoch 10/50\n",
      "35224/35224 [==============================] - 2s 47us/step - loss: -161.5289 - val_loss: -161.7770\n",
      "Epoch 11/50\n",
      "35224/35224 [==============================] - 1s 42us/step - loss: -161.8424 - val_loss: -161.9624\n",
      "Epoch 12/50\n",
      "35224/35224 [==============================] - 2s 47us/step - loss: -162.0784 - val_loss: -162.1860\n",
      "Epoch 13/50\n",
      "35224/35224 [==============================] - 2s 53us/step - loss: -162.2510 - val_loss: -162.3870\n",
      "Epoch 14/50\n",
      "35224/35224 [==============================] - 2s 53us/step - loss: -162.4074 - val_loss: -162.5369\n",
      "Epoch 15/50\n",
      "35224/35224 [==============================] - 2s 50us/step - loss: -162.5406 - val_loss: -162.6366\n",
      "Epoch 16/50\n",
      "35224/35224 [==============================] - 2s 50us/step - loss: -162.6515 - val_loss: -162.7543\n",
      "Epoch 17/50\n",
      "35224/35224 [==============================] - 2s 51us/step - loss: -162.7325 - val_loss: -162.8706\n",
      "Epoch 18/50\n",
      "35224/35224 [==============================] - 2s 49us/step - loss: -162.8448 - val_loss: -162.9339\n",
      "Epoch 19/50\n",
      "35224/35224 [==============================] - 2s 52us/step - loss: -162.9489 - val_loss: -163.0157\n",
      "Epoch 20/50\n",
      "35224/35224 [==============================] - 2s 49us/step - loss: -163.0162 - val_loss: -163.1133\n",
      "Epoch 21/50\n",
      "35224/35224 [==============================] - 2s 48us/step - loss: -163.0752 - val_loss: -163.1371\n",
      "Epoch 22/50\n",
      "35224/35224 [==============================] - 2s 47us/step - loss: -163.1751 - val_loss: -163.2475\n",
      "Epoch 23/50\n",
      "35224/35224 [==============================] - 2s 45us/step - loss: -163.2378 - val_loss: -163.3235\n",
      "Epoch 24/50\n",
      "35224/35224 [==============================] - 2s 53us/step - loss: -163.2706 - val_loss: -163.3645\n",
      "Epoch 25/50\n",
      "35224/35224 [==============================] - 2s 53us/step - loss: -163.3362 - val_loss: -163.4048\n",
      "Epoch 26/50\n",
      "35224/35224 [==============================] - 2s 53us/step - loss: -163.3868 - val_loss: -163.4334\n",
      "Epoch 27/50\n",
      "35224/35224 [==============================] - 2s 48us/step - loss: -163.4218 - val_loss: -163.4869\n",
      "Epoch 28/50\n",
      "35224/35224 [==============================] - 2s 45us/step - loss: -163.4710 - val_loss: -163.5168\n",
      "Epoch 29/50\n",
      "35224/35224 [==============================] - 2s 46us/step - loss: -163.5129 - val_loss: -163.5454\n",
      "Epoch 30/50\n",
      "35224/35224 [==============================] - 2s 45us/step - loss: -163.5566 - val_loss: -163.5962\n",
      "Epoch 31/50\n",
      "35224/35224 [==============================] - 2s 47us/step - loss: -163.5834 - val_loss: -163.6399\n",
      "Epoch 32/50\n",
      "35224/35224 [==============================] - 2s 43us/step - loss: -163.6284 - val_loss: -163.7096\n",
      "Epoch 33/50\n",
      "35224/35224 [==============================] - 2s 43us/step - loss: -163.6435 - val_loss: -163.7045\n",
      "Epoch 34/50\n",
      "35224/35224 [==============================] - 2s 45us/step - loss: -163.7046 - val_loss: -163.7723\n",
      "Epoch 35/50\n",
      "35224/35224 [==============================] - 1s 42us/step - loss: -163.7361 - val_loss: -163.8190\n",
      "Epoch 36/50\n",
      "35224/35224 [==============================] - 2s 43us/step - loss: -163.7602 - val_loss: -163.8599\n",
      "Epoch 37/50\n",
      "35224/35224 [==============================] - 2s 45us/step - loss: -163.7854 - val_loss: -163.8151\n",
      "Epoch 38/50\n",
      "35224/35224 [==============================] - 2s 44us/step - loss: -163.8273 - val_loss: -163.8583\n",
      "Epoch 39/50\n",
      "35224/35224 [==============================] - 1s 40us/step - loss: -163.8590 - val_loss: -163.9253\n",
      "Epoch 40/50\n",
      "35224/35224 [==============================] - 2s 44us/step - loss: -163.8674 - val_loss: -163.9107\n",
      "Epoch 41/50\n",
      "35224/35224 [==============================] - 1s 42us/step - loss: -163.9025 - val_loss: -163.9285\n",
      "Epoch 42/50\n",
      "35224/35224 [==============================] - 1s 42us/step - loss: -163.8859 - val_loss: -163.9550\n",
      "Epoch 43/50\n",
      "35224/35224 [==============================] - 2s 44us/step - loss: -163.8832 - val_loss: -163.9538\n",
      "Epoch 44/50\n",
      "35224/35224 [==============================] - 2s 51us/step - loss: -163.9013 - val_loss: -163.9155\n",
      "Epoch 45/50\n",
      "35224/35224 [==============================] - 2s 49us/step - loss: -163.9079 - val_loss: -163.9749\n",
      "Epoch 46/50\n",
      "35224/35224 [==============================] - 2s 52us/step - loss: -163.9105 - val_loss: -163.9682\n",
      "Epoch 47/50\n",
      "35224/35224 [==============================] - 2s 51us/step - loss: -163.9059 - val_loss: -163.9668\n",
      "Epoch 48/50\n",
      "35224/35224 [==============================] - 2s 54us/step - loss: -163.9217 - val_loss: -163.9683\n",
      "Epoch 49/50\n",
      "35224/35224 [==============================] - 2s 56us/step - loss: -163.9201 - val_loss: -163.9594\n",
      "Epoch 50/50\n",
      "35224/35224 [==============================] - 2s 51us/step - loss: -163.9116 - val_loss: -163.9751\n"
     ]
    },
    {
     "name": "stderr",
     "output_type": "stream",
     "text": [
      "2018-12-17 17:56:58.362614: I tensorflow/core/platform/cpu_feature_guard.cc:140] Your CPU supports instructions that this TensorFlow binary was not compiled to use: SSE4.1 SSE4.2 AVX AVX2 FMA\n"
     ]
    }
   ],
   "source": [
    "\n",
    "# train the VAE \n",
    "x_train = data_train\n",
    "x_test  = data_test\n",
    "\n",
    "\n",
    "history = vae.fit(x_train,   # source\n",
    "                  x_train,   # target --> autoencoder, then the target is the same as the input\n",
    "                  shuffle = True,\n",
    "                  epochs = epochs,\n",
    "                  batch_size = batch_size,\n",
    "                  validation_data = (x_test, x_test))    # target = input also in the testing\n"
   ]
  },
  {
   "cell_type": "code",
   "execution_count": 11,
   "metadata": {},
   "outputs": [],
   "source": [
    "encoder = Model(x, z_mu)\n",
    "\n"
   ]
  },
  {
   "cell_type": "code",
   "execution_count": 12,
   "metadata": {},
   "outputs": [],
   "source": [
    "\n",
    "# display a plot of the latent space\n",
    "z_test = encoder.predict(x_test, batch_size = batch_size)\n",
    "\n"
   ]
  },
  {
   "cell_type": "code",
   "execution_count": 13,
   "metadata": {},
   "outputs": [
    {
     "name": "stdout",
     "output_type": "stream",
     "text": [
      "z_test =  [[ 1.72536969e-02 -1.02708936e-02 -6.80045784e-03 -1.47869396e+00]\n",
      " [-1.37091875e-02  1.10686719e-02 -1.94187462e-03  9.25725698e-03]\n",
      " [-1.52048767e-02  1.18866563e-02 -1.02801621e-03  1.07749701e-02]\n",
      " ...\n",
      " [ 6.72340393e-03  3.94496322e-03 -5.02169132e-04  1.52118647e+00]\n",
      " [-8.69864225e-03  8.32064450e-03 -4.97853756e-03  1.61314011e-03]\n",
      " [ 8.15731287e-03  3.15809250e-03 -1.34024024e-03  1.51905453e+00]]\n",
      "x_test =  [[ 3.09220743  2.91992331  2.75642848  3.9106195   2.15135527]\n",
      " [ 2.30208063  2.25768137  4.39406109  2.08791327 -1.        ]\n",
      " [ 6.45768356  2.49957013  4.46570492  3.20503378 -1.        ]\n",
      " ...\n",
      " [ 3.21668196  2.88433599  2.30361819 -1.         -1.        ]\n",
      " [ 4.00258541  2.30555749  2.87209988  3.703614   -1.        ]\n",
      " [ 1.39788163  2.44209385  2.4899857  -1.         -1.        ]]\n"
     ]
    }
   ],
   "source": [
    "print \"z_test = \", z_test\n",
    "\n",
    "print \"x_test = \", x_test\n",
    "\n"
   ]
  },
  {
   "cell_type": "code",
   "execution_count": 29,
   "metadata": {},
   "outputs": [
    {
     "name": "stdout",
     "output_type": "stream",
     "text": [
      "latent layer\n"
     ]
    },
    {
     "data": {
      "image/png": "[encoded data removed]",
      "text/plain": [
       "<Figure size 216x216 with 1 Axes>"
      ]
     },
     "metadata": {},
     "output_type": "display_data"
    },
    {
     "data": {
      "image/png": "[encoded data removed]",
      "text/plain": [
       "<Figure size 216x216 with 1 Axes>"
      ]
     },
     "metadata": {},
     "output_type": "display_data"
    },
    {
     "data": {
      "image/png": "[encoded data removed]",
      "text/plain": [
       "<Figure size 216x216 with 1 Axes>"
      ]
     },
     "metadata": {},
     "output_type": "display_data"
    },
    {
     "data": {
      "image/png": "[encoded data removed]",
      "text/plain": [
       "<Figure size 216x216 with 1 Axes>"
      ]
     },
     "metadata": {},
     "output_type": "display_data"
    }
   ],
   "source": [
    "#plt.hist( z_test[:,0], bins = 50)\n",
    "#plt.hist( x_test[:,0], bins = 50)\n",
    "\n",
    "\n",
    "print \"latent layer\"\n",
    "\n",
    "for inode in range(latent_dim):\n",
    "  fig = plt.figure(figsize = (3,3))\n",
    "  plt.hist( z_test[:,inode], bins = 50)\n",
    "\n",
    "\n"
   ]
  },
  {
   "cell_type": "code",
   "execution_count": null,
   "metadata": {},
   "outputs": [],
   "source": []
  },
  {
   "cell_type": "code",
   "execution_count": 16,
   "metadata": {},
   "outputs": [
    {
     "data": {
      "image/png": "[encoded data removed]",
      "text/plain": [
       "<Figure size 864x864 with 1 Axes>"
      ]
     },
     "metadata": {},
     "output_type": "display_data"
    }
   ],
   "source": [
    "\n",
    "\n",
    "#########################################################\n",
    "## validation plot\n",
    "\n",
    "fig_validation = plt.figure(original_dim+latent_dim, figsize=(12,12))\n",
    "\n",
    "epochs = range(1, len(history.history[\"loss\"])+1)\n",
    "plt.plot(epochs, history.history[\"loss\"], lw=3, label=\"Training loss\")\n",
    "plt.plot(epochs, history.history[\"val_loss\"], lw=3, label=\"Validation loss\")\n",
    "plt.xlabel(\"Epoch\"), plt.ylabel(\"Cross-entropy loss\");\n",
    "\n"
   ]
  },
  {
   "cell_type": "code",
   "execution_count": 17,
   "metadata": {},
   "outputs": [
    {
     "name": "stdout",
     "output_type": "stream",
     "text": [
      "__________________________________________________________________________________________________\n",
      "Layer (type)                    Output Shape         Param #     Connected to                     \n",
      "==================================================================================================\n",
      "input_1 (InputLayer)            (None, 5)            0                                            \n",
      "__________________________________________________________________________________________________\n",
      "dense_3 (Dense)                 (None, 4)            24          input_1[0][0]                    \n",
      "__________________________________________________________________________________________________\n",
      "dense_4 (Dense)                 (None, 4)            20          dense_3[0][0]                    \n",
      "__________________________________________________________________________________________________\n",
      "dense_5 (Dense)                 (None, 4)            20          dense_3[0][0]                    \n",
      "__________________________________________________________________________________________________\n",
      "kl_divergence_layer_1 (KLDiverg [(None, 4), (None, 4 0           dense_4[0][0]                    \n",
      "                                                                 dense_5[0][0]                    \n",
      "__________________________________________________________________________________________________\n",
      "lambda_1 (Lambda)               (None, 4)            0           kl_divergence_layer_1[0][1]      \n",
      "__________________________________________________________________________________________________\n",
      "input_2 (InputLayer)            (None, 4)            0                                            \n",
      "__________________________________________________________________________________________________\n",
      "multiply_1 (Multiply)           (None, 4)            0           lambda_1[0][0]                   \n",
      "                                                                 input_2[0][0]                    \n",
      "__________________________________________________________________________________________________\n",
      "add_1 (Add)                     (None, 4)            0           kl_divergence_layer_1[0][0]      \n",
      "                                                                 multiply_1[0][0]                 \n",
      "__________________________________________________________________________________________________\n",
      "sequential_1 (Sequential)       (None, 5)            45          add_1[0][0]                      \n",
      "==================================================================================================\n",
      "Total params: 109\n",
      "Trainable params: 109\n",
      "Non-trainable params: 0\n",
      "__________________________________________________________________________________________________\n"
     ]
    }
   ],
   "source": [
    "\n",
    "#########################################################\n",
    "## plot structure of NN\n",
    "\n",
    "from keras.utils import plot_model, print_summary\n",
    "print_summary(vae)\n",
    "\n",
    "plot_model(vae, to_file='model_plot.png', show_shapes=True, show_layer_names=True)\n",
    "\n"
   ]
  },
  {
   "cell_type": "code",
   "execution_count": 25,
   "metadata": {},
   "outputs": [
    {
     "name": "stdout",
     "output_type": "stream",
     "text": [
      "2D: reg vs original\n"
     ]
    },
    {
     "data": {
      "image/png": "[encoded data removed]",
      "text/plain": [
       "<Figure size 288x288 with 1 Axes>"
      ]
     },
     "metadata": {},
     "output_type": "display_data"
    },
    {
     "data": {
      "image/png": "[encoded data removed]",
      "text/plain": [
       "<Figure size 288x288 with 1 Axes>"
      ]
     },
     "metadata": {},
     "output_type": "display_data"
    },
    {
     "data": {
      "image/png": "[encoded data removed]",
      "text/plain": [
       "<Figure size 288x288 with 1 Axes>"
      ]
     },
     "metadata": {},
     "output_type": "display_data"
    },
    {
     "data": {
      "image/png": "[encoded data removed]",
      "text/plain": [
       "<Figure size 288x288 with 1 Axes>"
      ]
     },
     "metadata": {},
     "output_type": "display_data"
    },
    {
     "data": {
      "image/png": "[encoded data removed]",
      "text/plain": [
       "<Figure size 288x288 with 1 Axes>"
      ]
     },
     "metadata": {},
     "output_type": "display_data"
    }
   ],
   "source": [
    "print \"2D: reg vs original\"\n",
    "\n",
    "x_reg_test = vae.predict(x_test, batch_size = batch_size)\n",
    "\n",
    "for inode in range(original_dim):\n",
    "  fig = plt.figure(figsize = (4,4))\n",
    "  plt.hist2d( x_test[:,inode], x_reg_test[:,inode], bins = 50)\n",
    "    \n",
    "    "
   ]
  },
  {
   "cell_type": "code",
   "execution_count": 28,
   "metadata": {},
   "outputs": [
    {
     "name": "stdout",
     "output_type": "stream",
     "text": [
      "input\n"
     ]
    },
    {
     "data": {
      "image/png": "[encoded data removed]",
      "text/plain": [
       "<Figure size 216x216 with 1 Axes>"
      ]
     },
     "metadata": {},
     "output_type": "display_data"
    },
    {
     "data": {
      "image/png": "[encoded data removed]",
      "text/plain": [
       "<Figure size 216x216 with 1 Axes>"
      ]
     },
     "metadata": {},
     "output_type": "display_data"
    },
    {
     "data": {
      "image/png": "[encoded data removed]",
      "text/plain": [
       "<Figure size 216x216 with 1 Axes>"
      ]
     },
     "metadata": {},
     "output_type": "display_data"
    },
    {
     "data": {
      "image/png": "[encoded data removed]",
      "text/plain": [
       "<Figure size 216x216 with 1 Axes>"
      ]
     },
     "metadata": {},
     "output_type": "display_data"
    },
    {
     "data": {
      "image/png": "[encoded data removed]",
      "text/plain": [
       "<Figure size 216x216 with 1 Axes>"
      ]
     },
     "metadata": {},
     "output_type": "display_data"
    }
   ],
   "source": [
    "\n",
    "print \"input\"\n",
    "\n",
    "for inode in range(original_dim):\n",
    "  fig = plt.figure(figsize = (3,3))\n",
    "  plt.hist( x_test[:,inode], bins = 50)\n"
   ]
  },
  {
   "cell_type": "code",
   "execution_count": 26,
   "metadata": {},
   "outputs": [
    {
     "name": "stdout",
     "output_type": "stream",
     "text": [
      "output\n"
     ]
    },
    {
     "data": {
      "image/png": "[encoded data removed]",
      "text/plain": [
       "<Figure size 288x288 with 1 Axes>"
      ]
     },
     "metadata": {},
     "output_type": "display_data"
    },
    {
     "data": {
      "image/png": "[encoded data removed]",
      "text/plain": [
       "<Figure size 288x288 with 1 Axes>"
      ]
     },
     "metadata": {},
     "output_type": "display_data"
    },
    {
     "data": {
      "image/png": "[encoded data removed]",
      "text/plain": [
       "<Figure size 288x288 with 1 Axes>"
      ]
     },
     "metadata": {},
     "output_type": "display_data"
    },
    {
     "data": {
      "image/png": "[encoded data removed]",
      "text/plain": [
       "<Figure size 288x288 with 1 Axes>"
      ]
     },
     "metadata": {},
     "output_type": "display_data"
    },
    {
     "data": {
      "image/png": "[encoded data removed]",
      "text/plain": [
       "<Figure size 288x288 with 1 Axes>"
      ]
     },
     "metadata": {},
     "output_type": "display_data"
    }
   ],
   "source": [
    "print \"output\"\n",
    "\n",
    "for inode in range(original_dim):\n",
    "   fig = plt.figure(figsize = (4,4))\n",
    "   plt.hist( x_reg_test[:,inode], bins = 50)\n"
   ]
  },
  {
   "cell_type": "code",
   "execution_count": null,
   "metadata": {},
   "outputs": [],
   "source": []
  },
  {
   "cell_type": "code",
   "execution_count": null,
   "metadata": {},
   "outputs": [],
   "source": []
  },
  {
   "cell_type": "code",
   "execution_count": null,
   "metadata": {},
   "outputs": [],
   "source": []
  }
 ],
 "metadata": {
  "kernelspec": {
   "display_name": "Python 2",
   "language": "python",
   "name": "python2"
  },
  "language_info": {
   "codemirror_mode": {
    "name": "ipython",
    "version": 2
   },
   "file_extension": ".py",
   "mimetype": "text/x-python",
   "name": "python",
   "nbconvert_exporter": "python",
   "pygments_lexer": "ipython2",
   "version": "2.7.15"
  }
 },
 "nbformat": 4,
 "nbformat_minor": 2
}
